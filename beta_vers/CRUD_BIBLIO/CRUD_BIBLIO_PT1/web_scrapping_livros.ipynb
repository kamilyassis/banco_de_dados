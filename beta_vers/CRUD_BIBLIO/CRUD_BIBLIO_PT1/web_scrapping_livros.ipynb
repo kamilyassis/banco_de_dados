{
 "cells": [
  {
   "cell_type": "code",
   "execution_count": 1,
   "metadata": {},
   "outputs": [],
   "source": [
    "import requests\n",
    "from bs4 import BeautifulSoup\n",
    "import sqlite3\n",
    "\n"
   ]
  },
  {
   "cell_type": "code",
   "execution_count": 2,
   "metadata": {},
   "outputs": [],
   "source": [
    "# Realizar o web scraping da página\n",
    "url = \"https://projectoadamastor.org/base-de-dados-de-livros-digitais/\"\n",
    "response = requests.get(url)\n",
    "soup = BeautifulSoup(response.content, \"html.parser\")"
   ]
  },
  {
   "cell_type": "code",
   "execution_count": 3,
   "metadata": {},
   "outputs": [],
   "source": [
    "table = soup.find(\"table\")\n",
    "livros = []"
   ]
  },
  {
   "cell_type": "code",
   "execution_count": null,
   "metadata": {},
   "outputs": [],
   "source": [
    "table"
   ]
  },
  {
   "cell_type": "code",
   "execution_count": 6,
   "metadata": {},
   "outputs": [],
   "source": [
    "for row in table.find_all(\"tr\")[1:12]:\n",
    "    cols = row.find_all(\"td\")\n",
    "    titulo = cols[0].find(\"a\").get_text()\n",
    "    autor = cols[1].get_text()\n",
    "    categoria = cols[7].get_text()\n",
    "\n",
    "    livros.append((titulo,autor,categoria))"
   ]
  },
  {
   "cell_type": "code",
   "execution_count": 9,
   "metadata": {},
   "outputs": [],
   "source": [
    "import csv\n",
    "import pandas as pd"
   ]
  },
  {
   "cell_type": "code",
   "execution_count": 10,
   "metadata": {},
   "outputs": [],
   "source": [
    "df = pd.DataFrame(livros, columns = [\"Título\",\"Autor\",\"Categoria\"],)"
   ]
  },
  {
   "cell_type": "code",
   "execution_count": 11,
   "metadata": {},
   "outputs": [],
   "source": [
    "df.to_csv('livros.csv',index=False)"
   ]
  },
  {
   "cell_type": "code",
   "execution_count": 12,
   "metadata": {},
   "outputs": [],
   "source": [
    "df_livros = pd.read_csv('livros.csv') "
   ]
  },
  {
   "cell_type": "code",
   "execution_count": 13,
   "metadata": {},
   "outputs": [
    {
     "data": {
      "text/html": [
       "<div>\n",
       "<style scoped>\n",
       "    .dataframe tbody tr th:only-of-type {\n",
       "        vertical-align: middle;\n",
       "    }\n",
       "\n",
       "    .dataframe tbody tr th {\n",
       "        vertical-align: top;\n",
       "    }\n",
       "\n",
       "    .dataframe thead th {\n",
       "        text-align: right;\n",
       "    }\n",
       "</style>\n",
       "<table border=\"1\" class=\"dataframe\">\n",
       "  <thead>\n",
       "    <tr style=\"text-align: right;\">\n",
       "      <th></th>\n",
       "      <th>Título</th>\n",
       "      <th>Autor</th>\n",
       "      <th>Categoria</th>\n",
       "    </tr>\n",
       "  </thead>\n",
       "  <tbody>\n",
       "    <tr>\n",
       "      <th>0</th>\n",
       "      <td>As Primaveras</td>\n",
       "      <td>Abreu, Casimiro de</td>\n",
       "      <td>Poesia</td>\n",
       "    </tr>\n",
       "    <tr>\n",
       "      <th>1</th>\n",
       "      <td>Carolina</td>\n",
       "      <td>Abreu, Casimiro de</td>\n",
       "      <td>Contos</td>\n",
       "    </tr>\n",
       "    <tr>\n",
       "      <th>2</th>\n",
       "      <td>Bases da Ortografia Portuguesa</td>\n",
       "      <td>Abreu, Guilherme de Vasconcelos; Viana, A. R. ...</td>\n",
       "      <td>Linguística</td>\n",
       "    </tr>\n",
       "    <tr>\n",
       "      <th>3</th>\n",
       "      <td>Capítulos de História Colonial (1500-1800)</td>\n",
       "      <td>Abreu, João Capistrano de</td>\n",
       "      <td>História</td>\n",
       "    </tr>\n",
       "    <tr>\n",
       "      <th>4</th>\n",
       "      <td>A Revolução Portugueza: O 31 de Janeiro</td>\n",
       "      <td>Abreu, Jorge de</td>\n",
       "      <td>História</td>\n",
       "    </tr>\n",
       "    <tr>\n",
       "      <th>5</th>\n",
       "      <td>A Revolução Portugueza: O 5 de Outubro</td>\n",
       "      <td>Abreu, Jorge de</td>\n",
       "      <td>História</td>\n",
       "    </tr>\n",
       "    <tr>\n",
       "      <th>6</th>\n",
       "      <td>Jaime de Magalhães Lima</td>\n",
       "      <td>Agostinho, José</td>\n",
       "      <td>Ensaio  Literatura</td>\n",
       "    </tr>\n",
       "    <tr>\n",
       "      <th>7</th>\n",
       "      <td>Manuel da Maya e os engenheiros militares port...</td>\n",
       "      <td>Aires, Cristóvão</td>\n",
       "      <td>Ensaio  Arte</td>\n",
       "    </tr>\n",
       "    <tr>\n",
       "      <th>8</th>\n",
       "      <td>Os Filhos do Padre Anselmo</td>\n",
       "      <td>Albergaria, Sá de</td>\n",
       "      <td>Romance</td>\n",
       "    </tr>\n",
       "    <tr>\n",
       "      <th>9</th>\n",
       "      <td>Descobrimento das Filippinas pelo navegador po...</td>\n",
       "      <td>Alberto, Caetano</td>\n",
       "      <td>História</td>\n",
       "    </tr>\n",
       "    <tr>\n",
       "      <th>10</th>\n",
       "      <td>Sidónio na Lenda</td>\n",
       "      <td>Albuquerque, António de</td>\n",
       "      <td>Biografia</td>\n",
       "    </tr>\n",
       "  </tbody>\n",
       "</table>\n",
       "</div>"
      ],
      "text/plain": [
       "                                               Título  \\\n",
       "0                                       As Primaveras   \n",
       "1                                            Carolina   \n",
       "2                      Bases da Ortografia Portuguesa   \n",
       "3          Capítulos de História Colonial (1500-1800)   \n",
       "4             A Revolução Portugueza: O 31 de Janeiro   \n",
       "5              A Revolução Portugueza: O 5 de Outubro   \n",
       "6                             Jaime de Magalhães Lima   \n",
       "7   Manuel da Maya e os engenheiros militares port...   \n",
       "8                          Os Filhos do Padre Anselmo   \n",
       "9   Descobrimento das Filippinas pelo navegador po...   \n",
       "10                                   Sidónio na Lenda   \n",
       "\n",
       "                                                Autor            Categoria  \n",
       "0                                  Abreu, Casimiro de               Poesia  \n",
       "1                                  Abreu, Casimiro de               Contos  \n",
       "2   Abreu, Guilherme de Vasconcelos; Viana, A. R. ...          Linguística  \n",
       "3                           Abreu, João Capistrano de             História  \n",
       "4                                     Abreu, Jorge de             História  \n",
       "5                                     Abreu, Jorge de             História  \n",
       "6                                     Agostinho, José  Ensaio  Literatura  \n",
       "7                                    Aires, Cristóvão        Ensaio  Arte  \n",
       "8                                   Albergaria, Sá de              Romance  \n",
       "9                                    Alberto, Caetano             História  \n",
       "10                            Albuquerque, António de            Biografia  "
      ]
     },
     "execution_count": 13,
     "metadata": {},
     "output_type": "execute_result"
    }
   ],
   "source": [
    "df_livros"
   ]
  },
  {
   "cell_type": "code",
   "execution_count": null,
   "metadata": {},
   "outputs": [],
   "source": []
  }
 ],
 "metadata": {
  "kernelspec": {
   "display_name": "base",
   "language": "python",
   "name": "python3"
  },
  "language_info": {
   "codemirror_mode": {
    "name": "ipython",
    "version": 3
   },
   "file_extension": ".py",
   "mimetype": "text/x-python",
   "name": "python",
   "nbconvert_exporter": "python",
   "pygments_lexer": "ipython3",
   "version": "3.9.12"
  }
 },
 "nbformat": 4,
 "nbformat_minor": 2
}
