{
 "cells": [
  {
   "cell_type": "code",
   "execution_count": 20,
   "metadata": {},
   "outputs": [],
   "source": [
    "import pandas as pd"
   ]
  },
  {
   "cell_type": "code",
   "execution_count": 21,
   "metadata": {},
   "outputs": [
    {
     "name": "stdout",
     "output_type": "stream",
     "text": [
      "Requirement already satisfied: mysql-connector-python in c:\\users\\dorie\\miniconda3\\lib\\site-packages (8.3.0)\n"
     ]
    },
    {
     "name": "stderr",
     "output_type": "stream",
     "text": [
      "\n",
      "[notice] A new release of pip is available: 23.1.2 -> 24.0\n",
      "[notice] To update, run: python.exe -m pip install --upgrade pip\n"
     ]
    }
   ],
   "source": [
    "!pip install mysql-connector-python"
   ]
  },
  {
   "cell_type": "code",
   "execution_count": 11,
   "metadata": {},
   "outputs": [],
   "source": [
    "import mysql.connector"
   ]
  },
  {
   "cell_type": "code",
   "execution_count": 12,
   "metadata": {},
   "outputs": [],
   "source": [
    "dados = pd.read_csv('livros.csv')"
   ]
  },
  {
   "cell_type": "code",
   "execution_count": 13,
   "metadata": {},
   "outputs": [
    {
     "data": {
      "text/html": [
       "<div>\n",
       "<style scoped>\n",
       "    .dataframe tbody tr th:only-of-type {\n",
       "        vertical-align: middle;\n",
       "    }\n",
       "\n",
       "    .dataframe tbody tr th {\n",
       "        vertical-align: top;\n",
       "    }\n",
       "\n",
       "    .dataframe thead th {\n",
       "        text-align: right;\n",
       "    }\n",
       "</style>\n",
       "<table border=\"1\" class=\"dataframe\">\n",
       "  <thead>\n",
       "    <tr style=\"text-align: right;\">\n",
       "      <th></th>\n",
       "      <th>Título</th>\n",
       "      <th>Autor</th>\n",
       "      <th>Categoria</th>\n",
       "    </tr>\n",
       "  </thead>\n",
       "  <tbody>\n",
       "    <tr>\n",
       "      <th>0</th>\n",
       "      <td>As Primaveras</td>\n",
       "      <td>Abreu, Casimiro de</td>\n",
       "      <td>Poesia</td>\n",
       "    </tr>\n",
       "    <tr>\n",
       "      <th>1</th>\n",
       "      <td>Carolina</td>\n",
       "      <td>Abreu, Casimiro de</td>\n",
       "      <td>Contos</td>\n",
       "    </tr>\n",
       "    <tr>\n",
       "      <th>2</th>\n",
       "      <td>Bases da Ortografia Portuguesa</td>\n",
       "      <td>Abreu, Guilherme de Vasconcelos; Viana, A. R. ...</td>\n",
       "      <td>Linguística</td>\n",
       "    </tr>\n",
       "    <tr>\n",
       "      <th>3</th>\n",
       "      <td>Capítulos de História Colonial (1500-1800)</td>\n",
       "      <td>Abreu, João Capistrano de</td>\n",
       "      <td>História</td>\n",
       "    </tr>\n",
       "    <tr>\n",
       "      <th>4</th>\n",
       "      <td>A Revolução Portugueza: O 31 de Janeiro</td>\n",
       "      <td>Abreu, Jorge de</td>\n",
       "      <td>História</td>\n",
       "    </tr>\n",
       "    <tr>\n",
       "      <th>5</th>\n",
       "      <td>A Revolução Portugueza: O 5 de Outubro</td>\n",
       "      <td>Abreu, Jorge de</td>\n",
       "      <td>História</td>\n",
       "    </tr>\n",
       "    <tr>\n",
       "      <th>6</th>\n",
       "      <td>Jaime de Magalhães Lima</td>\n",
       "      <td>Agostinho, José</td>\n",
       "      <td>Ensaio  Literatura</td>\n",
       "    </tr>\n",
       "    <tr>\n",
       "      <th>7</th>\n",
       "      <td>Manuel da Maya e os engenheiros militares port...</td>\n",
       "      <td>Aires, Cristóvão</td>\n",
       "      <td>Ensaio  Arte</td>\n",
       "    </tr>\n",
       "    <tr>\n",
       "      <th>8</th>\n",
       "      <td>Os Filhos do Padre Anselmo</td>\n",
       "      <td>Albergaria, Sá de</td>\n",
       "      <td>Romance</td>\n",
       "    </tr>\n",
       "    <tr>\n",
       "      <th>9</th>\n",
       "      <td>Descobrimento das Filippinas pelo navegador po...</td>\n",
       "      <td>Alberto, Caetano</td>\n",
       "      <td>História</td>\n",
       "    </tr>\n",
       "    <tr>\n",
       "      <th>10</th>\n",
       "      <td>Sidónio na Lenda</td>\n",
       "      <td>Albuquerque, António de</td>\n",
       "      <td>Biografia</td>\n",
       "    </tr>\n",
       "  </tbody>\n",
       "</table>\n",
       "</div>"
      ],
      "text/plain": [
       "                                               Título   \n",
       "0                                       As Primaveras  \\\n",
       "1                                            Carolina   \n",
       "2                      Bases da Ortografia Portuguesa   \n",
       "3          Capítulos de História Colonial (1500-1800)   \n",
       "4             A Revolução Portugueza: O 31 de Janeiro   \n",
       "5              A Revolução Portugueza: O 5 de Outubro   \n",
       "6                             Jaime de Magalhães Lima   \n",
       "7   Manuel da Maya e os engenheiros militares port...   \n",
       "8                          Os Filhos do Padre Anselmo   \n",
       "9   Descobrimento das Filippinas pelo navegador po...   \n",
       "10                                   Sidónio na Lenda   \n",
       "\n",
       "                                                Autor            Categoria  \n",
       "0                                  Abreu, Casimiro de               Poesia  \n",
       "1                                  Abreu, Casimiro de               Contos  \n",
       "2   Abreu, Guilherme de Vasconcelos; Viana, A. R. ...          Linguística  \n",
       "3                           Abreu, João Capistrano de             História  \n",
       "4                                     Abreu, Jorge de             História  \n",
       "5                                     Abreu, Jorge de             História  \n",
       "6                                     Agostinho, José  Ensaio  Literatura  \n",
       "7                                    Aires, Cristóvão        Ensaio  Arte  \n",
       "8                                   Albergaria, Sá de              Romance  \n",
       "9                                    Alberto, Caetano             História  \n",
       "10                            Albuquerque, António de            Biografia  "
      ]
     },
     "execution_count": 13,
     "metadata": {},
     "output_type": "execute_result"
    }
   ],
   "source": [
    "dados"
   ]
  },
  {
   "cell_type": "code",
   "execution_count": 14,
   "metadata": {},
   "outputs": [],
   "source": [
    "valores = [tuple(x) for x in dados.values]"
   ]
  },
  {
   "cell_type": "code",
   "execution_count": 15,
   "metadata": {},
   "outputs": [
    {
     "data": {
      "text/plain": [
       "[('As Primaveras', 'Abreu, Casimiro de', 'Poesia'),\n",
       " ('Carolina', 'Abreu, Casimiro de', 'Contos'),\n",
       " ('Bases da Ortografia Portuguesa',\n",
       "  'Abreu, Guilherme de Vasconcelos; Viana, A. R. Gonçalves',\n",
       "  'Linguística'),\n",
       " ('Capítulos de História Colonial (1500-1800)',\n",
       "  'Abreu, João Capistrano de',\n",
       "  'História'),\n",
       " ('A Revolução Portugueza: O 31 de Janeiro', 'Abreu, Jorge de', 'História'),\n",
       " ('A Revolução Portugueza: O 5 de Outubro', 'Abreu, Jorge de', 'História'),\n",
       " ('Jaime de Magalhães Lima', 'Agostinho, José', 'Ensaio \\x97 Literatura'),\n",
       " ('Manuel da Maya e os engenheiros militares portugueses no Terramoto de 1755',\n",
       "  'Aires, Cristóvão',\n",
       "  'Ensaio \\x97 Arte'),\n",
       " ('Os Filhos do Padre Anselmo', 'Albergaria, Sá de', 'Romance'),\n",
       " ('Descobrimento das Filippinas pelo navegador portuguez Fernão de Magalhães',\n",
       "  'Alberto, Caetano',\n",
       "  'História'),\n",
       " ('Sidónio na Lenda', 'Albuquerque, António de', 'Biografia')]"
      ]
     },
     "execution_count": 15,
     "metadata": {},
     "output_type": "execute_result"
    }
   ],
   "source": [
    "valores"
   ]
  },
  {
   "cell_type": "code",
   "execution_count": 16,
   "metadata": {},
   "outputs": [],
   "source": [
    "tabela = \"livros\"\n",
    "colunas = list(dados.columns)\n",
    "placeholders = ', '.join(['%s' for _ in range(len(colunas))])"
   ]
  },
  {
   "cell_type": "code",
   "execution_count": 17,
   "metadata": {},
   "outputs": [
    {
     "data": {
      "text/plain": [
       "'%s, %s, %s'"
      ]
     },
     "execution_count": 17,
     "metadata": {},
     "output_type": "execute_result"
    }
   ],
   "source": [
    "placeholders"
   ]
  },
  {
   "cell_type": "code",
   "execution_count": 22,
   "metadata": {},
   "outputs": [],
   "source": [
    "conexao = mysql.connector.connect(\n",
    "    host=\"localhost\",\n",
    "    user = 'root',\n",
    "    password = '39*72p16lf',\n",
    "    database = 'biblioteca'\n",
    ")\n",
    "\n",
    "#para ler os dados\n",
    "dados = pd.read_csv(\"livros.csv\")\n",
    "\n",
    "#estabelecer as colunas\n",
    "tabela = \"livros\"\n",
    "colunas = list(dados.columns)\n",
    "\n",
    "#conexão com o banco\n",
    "cursor = conexao.cursor()\n",
    "\n",
    "# Criar a string de placeholders para os valores\n",
    "placeholders = ', '.join(['%s' for _ in range(len(colunas))])\n",
    "\n",
    "# Montar o comando SQL corretamente\n",
    "sql = f\"INSERT INTO {tabela} (titulo, autor, genero) VALUES ({placeholders})\"\n",
    "\n",
    "# Converter os valores do DataFrame em uma lista de tuplas\n",
    "valores = [tuple(x) for x in dados.values]\n",
    "\n",
    "# Executar a inserção dos dados\n",
    "cursor.executemany(sql, valores)\n",
    "\n",
    "# Commit e fechar o cursor e a conexão\n",
    "conexao.commit()\n",
    "cursor.close()\n",
    "conexao.close()"
   ]
  }
 ],
 "metadata": {
  "kernelspec": {
   "display_name": "base",
   "language": "python",
   "name": "python3"
  },
  "language_info": {
   "codemirror_mode": {
    "name": "ipython",
    "version": 3
   },
   "file_extension": ".py",
   "mimetype": "text/x-python",
   "name": "python",
   "nbconvert_exporter": "python",
   "pygments_lexer": "ipython3",
   "version": "3.8.5"
  }
 },
 "nbformat": 4,
 "nbformat_minor": 2
}
